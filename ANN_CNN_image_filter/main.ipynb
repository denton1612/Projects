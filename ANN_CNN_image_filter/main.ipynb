{
 "cells": [
  {
   "metadata": {},
   "cell_type": "markdown",
   "source": [
    "# Lab07 - Rezolvarea unor probleme de clasificare prin metode de învățare automată\n",
    "### Obiective\n",
    "Dezvoltarea sistemelor care învaţă singure. Probleme de tip clasificare rezolvate cu ajutorul rețeleleor neuronale artificiale (Artificial Neural Networks - ANN). Evaluareaa performanței acestor metode.\n",
    "\n",
    "### Aspecte teoretice\n",
    "Rețele neuronale artificiale pentru rezolvarea problemelor de clasificare.\n",
    "Proiectarea sistemelor care învaţă singure.\n",
    "Evaluarea sistemelor care învaţă singure. Metrici de performanță.\n",
    "\n",
    "### Probleme\n",
    "**Retea sociala: ce fel de poze ai postat?** (TEMA) Tocmai ti-ai inceput prima ta zi de munca ca si software developer la Facebook in echipa care se ocupa cu partea de continut a platformei. Echipa de analisti a observat ca foarte multe persoane folosesc filtre peste pozele lor, asadar in speranta de a promova continut mai putin editat, si poze cat mai reale, doresc sa implementeze o noua functionalite in care sa arate utilizatorilor daca o poza a fost sau nu editata. Pentru a testa aceasta idee, si pentru a vedea daca utlizatorilor li s-ar parea folositoare o astfel de functionalitate, au decis sa testeze ideea pe pozele care au filtre sepia. Primul task al tau este sa implementezi un algoritm de clasificare a pozelor care sa ne spuna daca o poza are sau nu adaugat filtru sepia. Team leaderul echipei de ML iti propune urmatorul plan de lucru:\n",
    "1. devoltarea, antrenarea si testarea unui clasificator bazat pe retele neuronale folosind date mai simple, de tip caracteristici numerice - de ex datele cu irisi) - Lucky you! Go to DEMO!\n",
    "2. devoltarea, antrenarea si testarea unui clasificator bazat pe retele neuronale folosind date mai complexe, de tip imagine - de ex baza de date cu cifre, pentru fiecare exemplu se va considera matricea de pixeli) - Lucky you! Go to DEMO!\n",
    "3. crearea unei baze cu imagini (cu si fara filtru sepia) si etichetele corespunzatoare - Let’s get down to business!\n",
    "4. antrenarea si testarea clasificatorului (bazat pe retele neuronale artificiale – tool sau ANN-ul dezvoltat) pentru clasificarea imaginilor cu si fara filtru - It's time to hustle!\n",
    "\n",
    "### Cerinte\n",
    "Specificaţi, proiectaţi, implementaţi si testati cate un algoritm de clasificare bazat pe retele neuronale artificiale (ANN sau CNN). Verificati influenta (hyper)parametrilor asupra calitatii clasificatorului antrenat.\n",
    "\n",
    "### Evaluarea\n",
    "Punctajele acordate:\n",
    "\n",
    "- creare baza de date - 50p\n",
    "- antrenarea unui model si testarea lui pentru clasificarea imaginilor normale vs sepia\n",
    "    - cu ANN (tool) - 50p\n",
    "    - influenta (hyper)parametrilor - 100p\n",
    "    - cu ANN (cod propriu) - 300p\n",
    "    - cu CNN (cod propriu) - 300p"
   ],
   "id": "b3abb7a5d88d86f1"
  },
  {
   "metadata": {},
   "cell_type": "markdown",
   "source": "## 1. Create image database",
   "id": "d9c42a2a2d9aa525"
  },
  {
   "metadata": {
    "collapsed": true,
    "ExecuteTime": {
     "end_time": "2025-05-15T13:20:30.271818Z",
     "start_time": "2025-05-15T13:20:29.415116Z"
    }
   },
   "cell_type": "code",
   "source": [
    "import random\n",
    "\n",
    "from PIL import Image\n",
    "import numpy as np\n",
    "import os\n",
    "\n",
    "from sklearn.preprocessing import StandardScaler"
   ],
   "id": "initial_id",
   "outputs": [],
   "execution_count": 1
  },
  {
   "metadata": {
    "ExecuteTime": {
     "end_time": "2025-05-15T13:20:30.277552Z",
     "start_time": "2025-05-15T13:20:30.275061Z"
    }
   },
   "cell_type": "code",
   "source": [
    "# functie de aplicare filtru sepia\n",
    "\n",
    "def apply_sepia(image: Image.Image):\n",
    "    image = image.convert(\"RGB\")\n",
    "    pixels = image.load()\n",
    "\n",
    "    for x in range(image.height):\n",
    "        for y in range(image.width):\n",
    "            r, g, b = pixels[x, y]\n",
    "\n",
    "            # se converteste fiecare canal de culoare pentru fiecare pixel la sepia\n",
    "            tr = int(0.393 * r + 0.769 * g + 0.189 * b)\n",
    "            tg = int(0.349 * r + 0.686 * g + 0.168 * b)\n",
    "            tb = int(0.272 * r + 0.534 * g + 0.131 * b)\n",
    "\n",
    "            # se normalizeaza valorile obtinute pentru a fi valide\n",
    "            pixels[x, y] = (\n",
    "                min(255, tr),\n",
    "                min(255, tg),\n",
    "                min(255, tb)\n",
    "            )\n",
    "\n",
    "    return image"
   ],
   "id": "35d1472ab8c0b530",
   "outputs": [],
   "execution_count": 2
  },
  {
   "metadata": {
    "ExecuteTime": {
     "end_time": "2025-05-15T13:20:30.383047Z",
     "start_time": "2025-05-15T13:20:30.379404Z"
    }
   },
   "cell_type": "code",
   "source": [
    "from PIL import Image, ImageDraw\n",
    "\n",
    "# functie pentru desenare forme aleatorii peste o imagine\n",
    "def draw_random_shapes(image):\n",
    "    draw = ImageDraw.Draw(image)\n",
    "    for _ in range(random.randint(5, 10)):\n",
    "        shape_type = random.choice([\"rectangle\", \"ellipse\", \"line\"])\n",
    "        x1, y1 = random.randint(0, 48), random.randint(0, 48)\n",
    "        x2, y2 = x1 + random.randint(8, 16), y1 + random.randint(8, 16)\n",
    "        color = tuple(random.randint(0, 255) for _ in range(3))\n",
    "        if shape_type == \"rectangle\":\n",
    "            draw.rectangle([x1, y1, x2, y2], fill=color)\n",
    "        elif shape_type == \"ellipse\":\n",
    "            draw.ellipse([x1, y1, x2, y2], fill=color)\n",
    "        elif shape_type == \"line\":\n",
    "            draw.line([x1, y1, x2, y2], fill=color, width=2)\n",
    "    return image\n",
    "\n",
    "# functie pentru generare dataset\n",
    "def create_dataset(image_size: tuple[int, int], n: int):\n",
    "    for i in range(n):\n",
    "        base_color = tuple(random.randint(0, 255) for _ in range(3))\n",
    "        # generare imagine\n",
    "        img = Image.new(\"RGB\", image_size, base_color)\n",
    "        # desenare obiecte aleatorii\n",
    "        img = draw_random_shapes(img)\n",
    "\n",
    "        # salvare imagine normala\n",
    "        img.save(f'dataset/normal/{i+1}.png')\n",
    "\n",
    "        # aplicare filtru sepia si salvare imagine\n",
    "        sepia_img = apply_sepia(img)\n",
    "        sepia_img.save(f'dataset/sepia/{i+1}.png')"
   ],
   "id": "4cd7536b9fb3a1ae",
   "outputs": [],
   "execution_count": 3
  },
  {
   "metadata": {
    "ExecuteTime": {
     "end_time": "2025-05-15T13:20:31.765065Z",
     "start_time": "2025-05-15T13:20:30.387245Z"
    }
   },
   "cell_type": "code",
   "source": [
    "# cream baza de date cu imagini\n",
    "\n",
    "create_dataset((64, 64), 500)"
   ],
   "id": "12b7d4881778d1cd",
   "outputs": [],
   "execution_count": 4
  },
  {
   "metadata": {},
   "cell_type": "markdown",
   "source": "## 2. Load data",
   "id": "39ded238c7db4f6"
  },
  {
   "metadata": {
    "ExecuteTime": {
     "end_time": "2025-05-15T13:20:31.771512Z",
     "start_time": "2025-05-15T13:20:31.768948Z"
    }
   },
   "cell_type": "code",
   "source": [
    "# functie de incarcare a datelor din baza de date\n",
    "\n",
    "def load_data(normal_folder: str, sepia_folder: str):\n",
    "    data = {}\n",
    "    for filename in os.listdir(normal_folder):\n",
    "        filepath = os.path.join(normal_folder, filename)\n",
    "        data[filepath] = 0 # 0 semnifica imagine normala\n",
    "\n",
    "    for filename in os.listdir(sepia_folder):\n",
    "        filepath = os.path.join(sepia_folder, filename)\n",
    "        data[filepath] = 1 # 1 semnfica imagine cu filtru sepia aplicat\n",
    "\n",
    "    items = list(data.items())\n",
    "    random.shuffle(items) # amestecam elementele in dictionar pentru a fi random\n",
    "    data = dict(items)\n",
    "\n",
    "    inputs = []\n",
    "    outputs = []\n",
    "\n",
    "    for key, value in data.items():\n",
    "        image = Image.open(key)\n",
    "        image_raw = np.array(image)\n",
    "\n",
    "        inputs.append(image_raw)\n",
    "        outputs.append(value)\n",
    "\n",
    "    output_names = [\"normal\", \"sepia\"]\n",
    "\n",
    "    return np.array(inputs), np.array(outputs), np.array(output_names)"
   ],
   "id": "1ad64b3129436ac7",
   "outputs": [],
   "execution_count": 5
  },
  {
   "metadata": {},
   "cell_type": "markdown",
   "source": "## 3. Split on train and test sets. Normalization",
   "id": "f60cb7945c9ddd4e"
  },
  {
   "metadata": {
    "ExecuteTime": {
     "end_time": "2025-05-15T13:20:31.777835Z",
     "start_time": "2025-05-15T13:20:31.775321Z"
    }
   },
   "cell_type": "code",
   "source": [
    "# functie de impartire a data set-ului in set pentru antrenament si set pentru testare performanta\n",
    "\n",
    "def split_data(inputs, outputs):\n",
    "    np.random.seed(5)\n",
    "    indexes = [i for i in range(len(inputs))]\n",
    "    trainSample = np.random.choice(indexes, int(0.8 * len(inputs)), replace = False)\n",
    "    testSample = [i for i in indexes if not i in trainSample]\n",
    "\n",
    "    train_inputs = np.array([inputs[i] for i in trainSample])\n",
    "    train_outputs = np.array([outputs[i] for i in trainSample])\n",
    "    test_inputs = np.array([inputs[i] for i in testSample])\n",
    "    test_outputs = np.array([outputs[i] for i in testSample])\n",
    "\n",
    "    return train_inputs, train_outputs, test_inputs, test_outputs"
   ],
   "id": "69d2791a62d8e1cf",
   "outputs": [],
   "execution_count": 6
  },
  {
   "metadata": {
    "ExecuteTime": {
     "end_time": "2025-05-15T13:20:31.784230Z",
     "start_time": "2025-05-15T13:20:31.781739Z"
    }
   },
   "cell_type": "code",
   "source": [
    "# functie pentru normalizarea input-urilor\n",
    "\n",
    "from sklearn.preprocessing import StandardScaler\n",
    "\n",
    "def normalisation(train_inputs, test_inputs):\n",
    "    scaler = StandardScaler()\n",
    "\n",
    "    # liniarizam imaginile\n",
    "    train_inputs = np.array([train_inputs[i].flatten() for i in range(len(train_inputs))])\n",
    "    test_inputs = np.array([test_inputs[i].flatten() for i in range(len(test_inputs))])\n",
    "\n",
    "    scaler.fit(train_inputs) # antrenam scaler-ul doar pe setul de antrenament\n",
    "\n",
    "    train_inputs_norm = scaler.transform(train_inputs)\n",
    "    test_inputs_norm = scaler.transform(test_inputs)\n",
    "    return train_inputs_norm, test_inputs_norm\n",
    "\n",
    "def normalisation_cnn(train_inputs, test_inputs):\n",
    "    train_inputs_norm = train_inputs/255.0\n",
    "    test_inputs_norm = test_inputs/255.0\n",
    "\n",
    "    return train_inputs_norm, test_inputs_norm"
   ],
   "id": "ff451ceb9eaaeed6",
   "outputs": [],
   "execution_count": 7
  },
  {
   "metadata": {},
   "cell_type": "markdown",
   "source": "## 4. Get ANN/CNN model",
   "id": "948dc948f6190f31"
  },
  {
   "metadata": {
    "ExecuteTime": {
     "end_time": "2025-05-15T13:20:31.861121Z",
     "start_time": "2025-05-15T13:20:31.788258Z"
    }
   },
   "cell_type": "code",
   "source": [
    "from sklearn.neural_network import MLPClassifier\n",
    "from models import ANN, CNN\n",
    "\n",
    "# functie pentru creare model\n",
    "\n",
    "def get_ann(hidden_sizes: tuple, learning_rate: float, iter: int, tool=True):\n",
    "    if tool:\n",
    "        model = MLPClassifier(\n",
    "            hidden_layer_sizes=hidden_sizes,\n",
    "            activation=\"relu\",\n",
    "            solver=\"sgd\",\n",
    "            alpha=0.01,\n",
    "            learning_rate_init=learning_rate,\n",
    "            shuffle=True,\n",
    "            learning_rate=\"adaptive\",\n",
    "            max_iter=iter,\n",
    "            verbose=True,\n",
    "        )\n",
    "\n",
    "    else:\n",
    "        model = ANN(hidden_layers=hidden_sizes, learning_rate=learning_rate, max_iter=iter)\n",
    "\n",
    "    return model\n",
    "\n",
    "def get_cnn(learning_rate: float, max_iter: int):\n",
    "    return CNN(learning_rate=learning_rate, max_iter=max_iter)"
   ],
   "id": "ec61f9459fa438fe",
   "outputs": [],
   "execution_count": 8
  },
  {
   "metadata": {},
   "cell_type": "markdown",
   "source": [
    "### Influenta hiperparametrilor:\n",
    "Arhitectura aleasa pentru modelul creat cu ajutorul tool-ului presupune **2 straturi ascunse de neuroni**.\n",
    "\n",
    "Alegerea parametrului **alpha** este importanta pentru prevenirea **overfitting-ului**. Acesta *penalizeaza* reteaua\n",
    "neuronala pentru valori in modul mult prea mari ale ponderilor. Totusi, o valoare mult prea mare a acestuia poate duce\n",
    "la **underfitting** (o invatare deficitara din datele de antrenare).\n",
    "\n",
    "Alegerea parametrului **learning_rate_init** determina rapiditatea cu care modelul va converge spre o valoare minima a functiei\n",
    "de loss. O valoare prea mare provoaca instabilitati in model, iar o valoare prea mica va necesita prea multe epoci pentru o\n",
    "eficienta potrivita. Prin setarea hiperparametrului **learning_rate** la *adaptive*, reteaua este capabila sa-si scada valoarea\n",
    "learing rate-ului cand determina ca in ultimele 10 epoci functia de loss nu a scazut cu cel putin o valoare prestabilita."
   ],
   "id": "5db99873f999addd"
  },
  {
   "metadata": {},
   "cell_type": "markdown",
   "source": "## 5. Calcul metrici de performanta",
   "id": "f27c165843eb5067"
  },
  {
   "metadata": {
    "ExecuteTime": {
     "end_time": "2025-05-15T13:20:31.870060Z",
     "start_time": "2025-05-15T13:20:31.867649Z"
    }
   },
   "cell_type": "code",
   "source": [
    "from sklearn.metrics import confusion_matrix\n",
    "import itertools\n",
    "\n",
    "# functie pentru calcularea performantei\n",
    "\n",
    "def eval_performance(real_labels, predicted_labels, label_names):\n",
    "    conf_matrix = confusion_matrix(real_labels, predicted_labels)\n",
    "\n",
    "    acc = sum([conf_matrix[i][i] for i in range(len(label_names))]) / len(real_labels)\n",
    "    precision = {}\n",
    "    recall = {}\n",
    "\n",
    "    for i in range(len(label_names)):\n",
    "        precision[label_names[i]] = conf_matrix[i][i] / sum(conf_matrix[j][i] for j in range(len(label_names)))\n",
    "        recall[label_names[i]] = conf_matrix[i][i] / sum(conf_matrix[i][j] for j in range(len(label_names)))\n",
    "\n",
    "    return acc, precision, recall, conf_matrix"
   ],
   "id": "b50c5d298dc66252",
   "outputs": [],
   "execution_count": 9
  },
  {
   "metadata": {
    "ExecuteTime": {
     "end_time": "2025-05-15T13:20:32.116119Z",
     "start_time": "2025-05-15T13:20:31.874187Z"
    }
   },
   "cell_type": "code",
   "source": [
    "# functie pentru afisarea matricii de confuzie\n",
    "\n",
    "import matplotlib.pyplot as plt\n",
    "\n",
    "def plot_confusion_matrix(cm, label_names, title='Confusion matrix'):\n",
    "    plt.figure()\n",
    "    plt.imshow(cm, interpolation = 'nearest', cmap = 'Blues')\n",
    "    plt.title('Confusion Matrix ' + title)\n",
    "    plt.colorbar()\n",
    "    tick_marks = np.arange(len(label_names))\n",
    "    plt.xticks(tick_marks, label_names, rotation=45)\n",
    "    plt.yticks(tick_marks, label_names)\n",
    "\n",
    "    text_format = 'd'\n",
    "    thresh = cm.max() / 2.\n",
    "    for row, column in itertools.product(range(cm.shape[0]), range(cm.shape[1])):\n",
    "        plt.text(column, row, format(cm[row, column], text_format),\n",
    "                horizontalalignment = 'center',\n",
    "                color = 'white' if cm[row, column] > thresh else 'black')\n",
    "\n",
    "    plt.ylabel('True label')\n",
    "    plt.xlabel('Predicted label')\n",
    "    plt.tight_layout()\n",
    "\n",
    "    plt.show()"
   ],
   "id": "354e6297a7e751a7",
   "outputs": [],
   "execution_count": 10
  },
  {
   "metadata": {},
   "cell_type": "markdown",
   "source": "## Creare date de antrenament si date de testare",
   "id": "f59d257e9ab98abe"
  },
  {
   "metadata": {
    "ExecuteTime": {
     "end_time": "2025-05-15T13:20:32.258375Z",
     "start_time": "2025-05-15T13:20:32.121177Z"
    }
   },
   "cell_type": "code",
   "source": [
    "# load data\n",
    "inputs, outputs, output_names = load_data('dataset/normal', 'dataset/sepia')\n",
    "\n",
    "# split data\n",
    "train_inputs, train_outputs, test_inputs, test_outputs = split_data(inputs, outputs)\n",
    "\n",
    "# normalizare date\n",
    "train_inputs_norm, test_inputs_norm = normalisation(train_inputs, test_inputs)\n",
    "print(train_inputs[0])"
   ],
   "id": "1bea5a001262692b",
   "outputs": [
    {
     "name": "stdout",
     "output_type": "stream",
     "text": [
      "[[[49 43 34]\n",
      "  [49 43 34]\n",
      "  [49 43 34]\n",
      "  ...\n",
      "  [49 43 34]\n",
      "  [49 43 34]\n",
      "  [49 43 34]]\n",
      "\n",
      " [[49 43 34]\n",
      "  [49 43 34]\n",
      "  [49 43 34]\n",
      "  ...\n",
      "  [49 43 34]\n",
      "  [49 43 34]\n",
      "  [49 43 34]]\n",
      "\n",
      " [[49 43 34]\n",
      "  [49 43 34]\n",
      "  [49 43 34]\n",
      "  ...\n",
      "  [49 43 34]\n",
      "  [49 43 34]\n",
      "  [49 43 34]]\n",
      "\n",
      " ...\n",
      "\n",
      " [[49 43 34]\n",
      "  [49 43 34]\n",
      "  [49 43 34]\n",
      "  ...\n",
      "  [49 43 34]\n",
      "  [49 43 34]\n",
      "  [49 43 34]]\n",
      "\n",
      " [[49 43 34]\n",
      "  [49 43 34]\n",
      "  [49 43 34]\n",
      "  ...\n",
      "  [49 43 34]\n",
      "  [49 43 34]\n",
      "  [49 43 34]]\n",
      "\n",
      " [[49 43 34]\n",
      "  [49 43 34]\n",
      "  [49 43 34]\n",
      "  ...\n",
      "  [49 43 34]\n",
      "  [49 43 34]\n",
      "  [49 43 34]]]\n"
     ]
    }
   ],
   "execution_count": 11
  },
  {
   "metadata": {},
   "cell_type": "markdown",
   "source": "## Tool ANN:",
   "id": "748ec126982b6f9d"
  },
  {
   "metadata": {
    "ExecuteTime": {
     "end_time": "2025-05-15T13:20:39.281696Z",
     "start_time": "2025-05-15T13:20:32.266700Z"
    }
   },
   "cell_type": "code",
   "source": [
    "# obtinere model\n",
    "model = get_ann(hidden_sizes=(128, 64), learning_rate=0.001, iter=100)\n",
    "model.fit(train_inputs_norm, train_outputs)\n",
    "predicted_labels = model.predict(test_inputs_norm)\n",
    "real_labels = test_outputs\n",
    "\n",
    "# evaluare performanta si afisare matrice de confuzie\n",
    "acc, precision, recall, conf_matrix = eval_performance(real_labels, predicted_labels, output_names)\n",
    "print(f'Accuracy: {acc}')\n",
    "print(f'Precision: {precision}')\n",
    "print(f'Recall: {recall}')\n",
    "plot_confusion_matrix(conf_matrix, output_names, title='Confusion Matrix Normal vs. Sepia')"
   ],
   "id": "2f72fcaf04c1b1f6",
   "outputs": [
    {
     "name": "stdout",
     "output_type": "stream",
     "text": [
      "Iteration 1, loss = 0.59482729\n",
      "Iteration 2, loss = 0.42342905\n",
      "Iteration 3, loss = 0.34607211\n",
      "Iteration 4, loss = 0.29438067\n",
      "Iteration 5, loss = 0.25849977\n",
      "Iteration 6, loss = 0.23331857\n",
      "Iteration 7, loss = 0.21409546\n",
      "Iteration 8, loss = 0.19850665\n",
      "Iteration 9, loss = 0.18511353\n",
      "Iteration 10, loss = 0.17380538\n",
      "Iteration 11, loss = 0.16366075\n",
      "Iteration 12, loss = 0.15506682\n",
      "Iteration 13, loss = 0.14792465\n",
      "Iteration 14, loss = 0.14027117\n",
      "Iteration 15, loss = 0.13355804\n",
      "Iteration 16, loss = 0.12786518\n",
      "Iteration 17, loss = 0.12304912\n",
      "Iteration 18, loss = 0.11739631\n",
      "Iteration 19, loss = 0.11265449\n",
      "Iteration 20, loss = 0.10858224\n",
      "Iteration 21, loss = 0.10425685\n",
      "Iteration 22, loss = 0.10070918\n",
      "Iteration 23, loss = 0.09715879\n",
      "Iteration 24, loss = 0.09364960\n",
      "Iteration 25, loss = 0.09065857\n",
      "Iteration 26, loss = 0.08788526\n",
      "Iteration 27, loss = 0.08496497\n",
      "Iteration 28, loss = 0.08232383\n",
      "Iteration 29, loss = 0.07981503\n",
      "Iteration 30, loss = 0.07761034\n",
      "Iteration 31, loss = 0.07541572\n",
      "Iteration 32, loss = 0.07348961\n",
      "Iteration 33, loss = 0.07131999\n",
      "Iteration 34, loss = 0.06938296\n",
      "Iteration 35, loss = 0.06757127\n",
      "Iteration 36, loss = 0.06595650\n",
      "Iteration 37, loss = 0.06439515\n",
      "Iteration 38, loss = 0.06283696\n",
      "Iteration 39, loss = 0.06136107\n",
      "Iteration 40, loss = 0.05984645\n",
      "Iteration 41, loss = 0.05848204\n",
      "Iteration 42, loss = 0.05727389\n",
      "Iteration 43, loss = 0.05598207\n",
      "Iteration 44, loss = 0.05480876\n",
      "Iteration 45, loss = 0.05360293\n",
      "Iteration 46, loss = 0.05261542\n",
      "Iteration 47, loss = 0.05142155\n",
      "Iteration 48, loss = 0.05043985\n",
      "Iteration 49, loss = 0.04951708\n",
      "Iteration 50, loss = 0.04856561\n",
      "Iteration 51, loss = 0.04757549\n",
      "Iteration 52, loss = 0.04673366\n",
      "Iteration 53, loss = 0.04587630\n",
      "Iteration 54, loss = 0.04506080\n",
      "Iteration 55, loss = 0.04427809\n",
      "Iteration 56, loss = 0.04353864\n",
      "Iteration 57, loss = 0.04275460\n",
      "Iteration 58, loss = 0.04209896\n",
      "Iteration 59, loss = 0.04138843\n",
      "Iteration 60, loss = 0.04074278\n",
      "Iteration 61, loss = 0.04013618\n",
      "Iteration 62, loss = 0.03949044\n",
      "Iteration 63, loss = 0.03887152\n",
      "Iteration 64, loss = 0.03833994\n",
      "Iteration 65, loss = 0.03773117\n",
      "Iteration 66, loss = 0.03722569\n",
      "Iteration 67, loss = 0.03667143\n",
      "Iteration 68, loss = 0.03618850\n",
      "Iteration 69, loss = 0.03570867\n",
      "Iteration 70, loss = 0.03525030\n",
      "Iteration 71, loss = 0.03481084\n",
      "Iteration 72, loss = 0.03429692\n",
      "Iteration 73, loss = 0.03385169\n",
      "Iteration 74, loss = 0.03345427\n",
      "Iteration 75, loss = 0.03303657\n",
      "Iteration 76, loss = 0.03260632\n",
      "Iteration 77, loss = 0.03230566\n",
      "Iteration 78, loss = 0.03191726\n",
      "Iteration 79, loss = 0.03150828\n",
      "Iteration 80, loss = 0.03113374\n",
      "Iteration 81, loss = 0.03077895\n",
      "Iteration 82, loss = 0.03042219\n",
      "Iteration 83, loss = 0.03009191\n",
      "Iteration 84, loss = 0.02980499\n",
      "Iteration 85, loss = 0.02944851\n",
      "Iteration 86, loss = 0.02914838\n",
      "Iteration 87, loss = 0.02884500\n",
      "Iteration 88, loss = 0.02856002\n",
      "Iteration 89, loss = 0.02827668\n",
      "Iteration 90, loss = 0.02798459\n",
      "Iteration 91, loss = 0.02773696\n",
      "Iteration 92, loss = 0.02744082\n",
      "Iteration 93, loss = 0.02719112\n",
      "Iteration 94, loss = 0.02692078\n",
      "Iteration 95, loss = 0.02666996\n",
      "Iteration 96, loss = 0.02644087\n",
      "Iteration 97, loss = 0.02617880\n",
      "Iteration 98, loss = 0.02593960\n",
      "Iteration 99, loss = 0.02573407\n",
      "Iteration 100, loss = 0.02550470\n",
      "Accuracy: 0.935\n",
      "Precision: {np.str_('normal'): np.float64(1.0), np.str_('sepia'): np.float64(0.8869565217391304)}\n",
      "Recall: {np.str_('normal'): np.float64(0.8673469387755102), np.str_('sepia'): np.float64(1.0)}\n"
     ]
    },
    {
     "name": "stderr",
     "output_type": "stream",
     "text": [
      "/Users/stiubedenis/PyCharmMiscProject/.venv/lib/python3.11/site-packages/sklearn/neural_network/_multilayer_perceptron.py:691: ConvergenceWarning: Stochastic Optimizer: Maximum iterations (100) reached and the optimization hasn't converged yet.\n",
      "  warnings.warn(\n"
     ]
    },
    {
     "data": {
      "text/plain": [
       "<Figure size 640x480 with 2 Axes>"
      ],
      "image/png": "[encoded data removed]"
     },
     "metadata": {},
     "output_type": "display_data"
    }
   ],
   "execution_count": 12
  },
  {
   "metadata": {},
   "cell_type": "markdown",
   "source": "## My ANN:",
   "id": "80f70b850f5d3229"
  },
  {
   "metadata": {
    "ExecuteTime": {
     "end_time": "2025-05-15T13:20:43.358827Z",
     "start_time": "2025-05-15T13:20:39.293189Z"
    }
   },
   "cell_type": "code",
   "source": [
    "# obtinere model\n",
    "model = get_ann(tool=False, hidden_sizes=(128, 64), learning_rate=0.001, iter=100)\n",
    "model.fit(train_inputs_norm, train_outputs)\n",
    "predicted_labels = model.predict(test_inputs_norm)\n",
    "real_labels = test_outputs\n",
    "\n",
    "# evaluare performanta si afisare matrice de confuzie\n",
    "acc, precision, recall, conf_matrix = eval_performance(real_labels, predicted_labels, output_names)\n",
    "print(f'Accuracy: {acc}')\n",
    "print(f'Precision: {precision}')\n",
    "print(f'Recall: {recall}')\n",
    "plot_confusion_matrix(conf_matrix, output_names, title='Confusion Matrix Normal vs. Sepia')"
   ],
   "id": "b09327b58152801f",
   "outputs": [
    {
     "name": "stdout",
     "output_type": "stream",
     "text": [
      "Iteration 1, loss: 0.7763576895897917\n",
      "Iteration 2, loss: 0.6300438167829333\n",
      "Iteration 3, loss: 0.6109681522461156\n",
      "Iteration 4, loss: 0.60321404007316\n",
      "Iteration 5, loss: 0.5972217707036301\n",
      "Iteration 6, loss: 0.5917580024334214\n",
      "Iteration 7, loss: 0.5865357368129663\n",
      "Iteration 8, loss: 0.5814313914651864\n",
      "Iteration 9, loss: 0.5763921569630103\n",
      "Iteration 10, loss: 0.5714002145196924\n",
      "Iteration 11, loss: 0.5664550584469112\n",
      "Iteration 12, loss: 0.5615621039263241\n",
      "Iteration 13, loss: 0.5567265969225217\n",
      "Iteration 14, loss: 0.5519518140136183\n",
      "Iteration 15, loss: 0.5472386783278964\n",
      "Iteration 16, loss: 0.542585388893291\n",
      "Iteration 17, loss: 0.5379875030224702\n",
      "Iteration 18, loss: 0.5334387575771565\n",
      "Iteration 19, loss: 0.5289321980873768\n",
      "Iteration 20, loss: 0.52446114554031\n",
      "Iteration 21, loss: 0.5200198450084806\n",
      "Iteration 22, loss: 0.5156038426463114\n",
      "Iteration 23, loss: 0.5112101672217285\n",
      "Iteration 24, loss: 0.5068373481981905\n",
      "Iteration 25, loss: 0.5024852553628321\n",
      "Iteration 26, loss: 0.49815474770968726\n",
      "Iteration 27, loss: 0.4938471933257867\n",
      "Iteration 28, loss: 0.4895640027620934\n",
      "Iteration 29, loss: 0.4853063166737094\n",
      "Iteration 30, loss: 0.4810748999930258\n",
      "Iteration 31, loss: 0.4768701870012879\n",
      "Iteration 32, loss: 0.4726923669860878\n",
      "Iteration 33, loss: 0.4685414608581815\n",
      "Iteration 34, loss: 0.464417498027409\n",
      "Iteration 35, loss: 0.46032095472598883\n",
      "Iteration 36, loss: 0.4562533599955041\n",
      "Iteration 37, loss: 0.4522176482472727\n",
      "Iteration 38, loss: 0.44821789682747193\n",
      "Iteration 39, loss: 0.44425851650715253\n",
      "Iteration 40, loss: 0.4403433386974033\n",
      "Iteration 41, loss: 0.43647502705755814\n",
      "Iteration 42, loss: 0.43265497635512673\n",
      "Iteration 43, loss: 0.4288836614069202\n",
      "Iteration 44, loss: 0.4251611876723207\n",
      "Iteration 45, loss: 0.42148771891167386\n",
      "Iteration 46, loss: 0.41786372346111406\n",
      "Iteration 47, loss: 0.41429011005085487\n",
      "Iteration 48, loss: 0.41076822444832134\n",
      "Iteration 49, loss: 0.4072997700389621\n",
      "Iteration 50, loss: 0.40388648734291827\n",
      "Iteration 51, loss: 0.4005289223560521\n",
      "Iteration 52, loss: 0.39722455002336915\n",
      "Iteration 53, loss: 0.3939671064428189\n",
      "Iteration 54, loss: 0.39074825559864307\n",
      "Iteration 55, loss: 0.3875607663362487\n",
      "Iteration 56, loss: 0.3844004788600571\n",
      "Iteration 57, loss: 0.38126444363535117\n",
      "Iteration 58, loss: 0.3781475057195574\n",
      "Iteration 59, loss: 0.3750418309224796\n",
      "Iteration 60, loss: 0.3719417160355536\n",
      "Iteration 61, loss: 0.368850299949313\n",
      "Iteration 62, loss: 0.3657805909635475\n",
      "Iteration 63, loss: 0.36275234155323816\n",
      "Iteration 64, loss: 0.3597847278179323\n",
      "Iteration 65, loss: 0.3568831831511456\n",
      "Iteration 66, loss: 0.3540384496516297\n",
      "Iteration 67, loss: 0.3512420991539639\n",
      "Iteration 68, loss: 0.34849483450922647\n",
      "Iteration 69, loss: 0.3457983448469364\n",
      "Iteration 70, loss: 0.3431507806831165\n",
      "Iteration 71, loss: 0.34055018597889924\n",
      "Iteration 72, loss: 0.3379924434349484\n",
      "Iteration 73, loss: 0.3354665257920431\n",
      "Iteration 74, loss: 0.3329564814805732\n",
      "Iteration 75, loss: 0.3304520879998803\n",
      "Iteration 76, loss: 0.32795635941141243\n",
      "Iteration 77, loss: 0.32547447799865814\n",
      "Iteration 78, loss: 0.3230010631849052\n",
      "Iteration 79, loss: 0.32053036568226695\n",
      "Iteration 80, loss: 0.31807012623703645\n",
      "Iteration 81, loss: 0.3156356204961345\n",
      "Iteration 82, loss: 0.3132326452594171\n",
      "Iteration 83, loss: 0.3108610444434196\n",
      "Iteration 84, loss: 0.3085273285047554\n",
      "Iteration 85, loss: 0.30624269281085115\n",
      "Iteration 86, loss: 0.3040146754883757\n",
      "Iteration 87, loss: 0.30184301310390177\n",
      "Iteration 88, loss: 0.29972307377995094\n",
      "Iteration 89, loss: 0.2976516775679941\n",
      "Iteration 90, loss: 0.295628114391768\n",
      "Iteration 91, loss: 0.29365039657536807\n",
      "Iteration 92, loss: 0.29170854216656317\n",
      "Iteration 93, loss: 0.2897911792626885\n",
      "Iteration 94, loss: 0.28789145413128314\n",
      "Iteration 95, loss: 0.28600737912821494\n",
      "Iteration 96, loss: 0.2841314770156233\n",
      "Iteration 97, loss: 0.28226624922476895\n",
      "Iteration 98, loss: 0.2804157688681571\n",
      "Iteration 99, loss: 0.2786036452108495\n",
      "Iteration 100, loss: 0.2768291899570901\n",
      "Accuracy: 0.865\n",
      "Precision: {np.str_('normal'): np.float64(0.8817204301075269), np.str_('sepia'): np.float64(0.8504672897196262)}\n",
      "Recall: {np.str_('normal'): np.float64(0.8367346938775511), np.str_('sepia'): np.float64(0.8921568627450981)}\n"
     ]
    },
    {
     "data": {
      "text/plain": [
       "<Figure size 640x480 with 2 Axes>"
      ],
      "image/png": "[encoded data removed]"
     },
     "metadata": {},
     "output_type": "display_data"
    }
   ],
   "execution_count": 13
  },
  {
   "metadata": {},
   "cell_type": "markdown",
   "source": "## My CNN:",
   "id": "f02b33c10e695abe"
  },
  {
   "metadata": {
    "ExecuteTime": {
     "end_time": "2025-05-15T13:57:37.812451Z",
     "start_time": "2025-05-15T13:23:25.114236Z"
    }
   },
   "cell_type": "code",
   "source": [
    "# normalizare date pentru cnn\n",
    "train_inputs_norm_cnn, test_inputs_norm_cnn = normalisation_cnn(train_inputs, test_inputs)\n",
    "\n",
    "# obtinere model\n",
    "model = get_cnn(learning_rate=0.01, max_iter=15)\n",
    "model.train(train_inputs_norm_cnn, train_outputs)\n",
    "predicted_labels = model.predict(test_inputs_norm_cnn)\n",
    "real_labels = test_outputs\n",
    "\n",
    "# evaluare performanta si afisare matrice de confuzie\n",
    "acc, precision, recall, conf_matrix = eval_performance(real_labels, predicted_labels, output_names)\n",
    "print(f'Accuracy: {acc}')\n",
    "print(f'Precision: {precision}')\n",
    "print(f'Recall: {recall}')\n",
    "plot_confusion_matrix(conf_matrix, output_names, title='Confusion Matrix Normal vs. Sepia')"
   ],
   "id": "8232a0758e6e9ec9",
   "outputs": [
    {
     "name": "stdout",
     "output_type": "stream",
     "text": [
      "Iteration 1, Loss: 0.414689\n",
      "Iteration 2, Loss: 0.173537\n",
      "Iteration 3, Loss: 0.107403\n",
      "Iteration 4, Loss: 0.077347\n",
      "Iteration 5, Loss: 0.064031\n",
      "Iteration 6, Loss: 0.060376\n",
      "Iteration 7, Loss: 0.049352\n",
      "Iteration 8, Loss: 0.045641\n",
      "Iteration 9, Loss: 0.041369\n",
      "Iteration 10, Loss: 0.030094\n",
      "Iteration 11, Loss: 0.026615\n",
      "Iteration 12, Loss: 0.026547\n",
      "Iteration 13, Loss: 0.019771\n",
      "Iteration 14, Loss: 0.017427\n",
      "Iteration 15, Loss: 0.015265\n",
      "Accuracy: 0.995\n",
      "Precision: {np.str_('normal'): np.float64(1.0), np.str_('sepia'): np.float64(0.9902912621359223)}\n",
      "Recall: {np.str_('normal'): np.float64(0.9897959183673469), np.str_('sepia'): np.float64(1.0)}\n"
     ]
    },
    {
     "data": {
      "text/plain": [
       "<Figure size 640x480 with 2 Axes>"
      ],
      "image/png": "[encoded data removed]"
     },
     "metadata": {},
     "output_type": "display_data"
    }
   ],
   "execution_count": 15
  }
 ],
 "metadata": {
  "kernelspec": {
   "display_name": "Python 3",
   "language": "python",
   "name": "python3"
  },
  "language_info": {
   "codemirror_mode": {
    "name": "ipython",
    "version": 2
   },
   "file_extension": ".py",
   "mimetype": "text/x-python",
   "name": "python",
   "nbconvert_exporter": "python",
   "pygments_lexer": "ipython2",
   "version": "2.7.6"
  }
 },
 "nbformat": 4,
 "nbformat_minor": 5
}
